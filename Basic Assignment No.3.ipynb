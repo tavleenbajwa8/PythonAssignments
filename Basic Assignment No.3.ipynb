{
 "cells": [
  {
   "cell_type": "code",
   "execution_count": null,
   "id": "0f7ca8cc",
   "metadata": {},
   "outputs": [],
   "source": [
    "\"\"\"\n",
    "1. Why are functions advantageous to have in your programs?\n",
    "2. When does the code in a function run: when it's specified or when it's called?\n",
    "3. What statement creates a function?\n",
    "4. What is the difference between a function and a function call?\n",
    "5. How many global scopes are there in a Python program? How many local scopes?\n",
    "6. What happens to variables in a local scope when the function call returns?\n",
    "7. What is the concept of a return value? Is it possible to have a return value in an expression?\n",
    "8. If a function does not have a return statement, what is the return value of a call to that function?\n",
    "9. How do you make a function variable refer to the global variable?\n",
    "10. What is the data type of None?\n",
    "11. What does the sentence import areallyourpetsnamederic do?\n",
    "12. If you had a bacon() feature in a spam module, what would you call it after importing spam?\n",
    "13. What can you do to save a programme from crashing if it encounters an error?\n",
    "14. What is the purpose of the try clause? What is the purpose of the except clause?\n",
    "\n",
    "\"\"\""
   ]
  },
  {
   "cell_type": "code",
   "execution_count": null,
   "id": "a37abf28",
   "metadata": {},
   "outputs": [],
   "source": [
    "1. Functions tends to increase code readability, reusability and reduce redundancy."
   ]
  },
  {
   "cell_type": "code",
   "execution_count": null,
   "id": "3c4d09f7",
   "metadata": {},
   "outputs": [],
   "source": [
    "2. When its is called"
   ]
  },
  {
   "cell_type": "code",
   "execution_count": null,
   "id": "b22f80a8",
   "metadata": {},
   "outputs": [],
   "source": [
    "3. def (Function definition)"
   ]
  },
  {
   "cell_type": "code",
   "execution_count": null,
   "id": "d19d2dfc",
   "metadata": {},
   "outputs": [],
   "source": [
    "4. Function consists of a 2 parts mainly: A def statement: Definites the name and variables and def clause consists of logic/code\n",
    "   Function call moves the program execution into a function and evaluates to function's return value"
   ]
  },
  {
   "cell_type": "code",
   "execution_count": null,
   "id": "18f49d52",
   "metadata": {},
   "outputs": [],
   "source": [
    "5. Global scope = 1, Local scope = Created whenever function is called"
   ]
  },
  {
   "cell_type": "code",
   "execution_count": null,
   "id": "013768f7",
   "metadata": {},
   "outputs": [],
   "source": [
    "6. Local scope is erased from the memory along with all the variables defined in it"
   ]
  },
  {
   "cell_type": "code",
   "execution_count": null,
   "id": "799722d2",
   "metadata": {},
   "outputs": [],
   "source": [
    "7. Return value is the value that a function call will result in. Yes, it can be used as a part in an expression."
   ]
  },
  {
   "cell_type": "code",
   "execution_count": null,
   "id": "cfa78acb",
   "metadata": {},
   "outputs": [],
   "source": [
    "8. None"
   ]
  },
  {
   "cell_type": "code",
   "execution_count": null,
   "id": "ed0ed0f5",
   "metadata": {},
   "outputs": [],
   "source": [
    "9. By using the statement \"global\" inside the function "
   ]
  },
  {
   "cell_type": "code",
   "execution_count": 4,
   "id": "0c5a6a60",
   "metadata": {},
   "outputs": [
    {
     "name": "stdout",
     "output_type": "stream",
     "text": [
      "200\n"
     ]
    }
   ],
   "source": [
    "x = 300\n",
    "\n",
    "def myfunc():\n",
    "    global x\n",
    "    x = 200\n",
    "\n",
    "myfunc()\n",
    "print(x)\n"
   ]
  },
  {
   "cell_type": "code",
   "execution_count": null,
   "id": "e9fcfbc2",
   "metadata": {},
   "outputs": [],
   "source": [
    "11. NoneType"
   ]
  },
  {
   "cell_type": "code",
   "execution_count": 20,
   "id": "ced1a46e",
   "metadata": {},
   "outputs": [
    {
     "data": {
      "text/plain": [
       "NoneType"
      ]
     },
     "execution_count": 20,
     "metadata": {},
     "output_type": "execute_result"
    }
   ],
   "source": [
    "def add(a,b):\n",
    "    #return a+b\n",
    "    pass\n",
    "type(add(10,20))"
   ]
  },
  {
   "cell_type": "code",
   "execution_count": null,
   "id": "66963754",
   "metadata": {},
   "outputs": [],
   "source": [
    "12. bacon.spam()"
   ]
  },
  {
   "cell_type": "code",
   "execution_count": null,
   "id": "247978a6",
   "metadata": {},
   "outputs": [],
   "source": [
    "13. Use try and except blocks in the code"
   ]
  },
  {
   "cell_type": "code",
   "execution_count": null,
   "id": "b633fbf7",
   "metadata": {},
   "outputs": [],
   "source": [
    "14. try block: Has the code which can potentially result in an error\n",
    "    except block: Has the code which is executed after the error has been occured"
   ]
  }
 ],
 "metadata": {
  "kernelspec": {
   "display_name": "Python 3",
   "language": "python",
   "name": "python3"
  },
  "language_info": {
   "codemirror_mode": {
    "name": "ipython",
    "version": 3
   },
   "file_extension": ".py",
   "mimetype": "text/x-python",
   "name": "python",
   "nbconvert_exporter": "python",
   "pygments_lexer": "ipython3",
   "version": "3.8.8"
  }
 },
 "nbformat": 4,
 "nbformat_minor": 5
}
