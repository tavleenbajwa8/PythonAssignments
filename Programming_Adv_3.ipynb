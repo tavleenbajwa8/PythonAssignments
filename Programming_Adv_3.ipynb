{
 "cells": [
  {
   "cell_type": "markdown",
   "id": "8b60874d",
   "metadata": {},
   "source": [
    "1. Create a function to perform basic arithmetic operations that includes\n",
    "addition, subtraction, multiplication and division on a string number (e.g. &quot;12 +\n",
    "24&quot; or &quot;23 - 21&quot; or &quot;12 // 12&quot; or &quot;12 * 21&quot;)."
   ]
  },
  {
   "cell_type": "code",
   "execution_count": 59,
   "id": "9e53468d",
   "metadata": {},
   "outputs": [],
   "source": [
    "def arithmetic_operation(x):\n",
    "    new = []\n",
    "    x1 = x.split()\n",
    "    x2 = x1.copy()\n",
    "    x1.pop(1)\n",
    "    for i in x1:\n",
    "        new.append(int(i))\n",
    "    for i in x2:\n",
    "        if i == '+':\n",
    "            return sum(new)\n",
    "        elif i == '-':\n",
    "            l1 = new[:len(new)//2]\n",
    "            l2 = new[len(new)//2:]\n",
    "            res = [x1 - x2 for (x1, x2) in zip(l1, l2)]\n",
    "            for r in res:\n",
    "                return r\n",
    "\n",
    "        elif i == '//':\n",
    "            if new[1] == 0:\n",
    "                return -1\n",
    "            else:\n",
    "                l3 = new[:len(new)//2]\n",
    "                l4 = new[len(new)//2:]\n",
    "                res2 = [(x3 // x4) for (x3, x4) in zip(l3, l4)]\n",
    "                for r2 in res2:\n",
    "                    return r2\n",
    "\n",
    "        elif i == '*':\n",
    "            l5 = new[:len(new)//2]\n",
    "            l6 = new[len(new)//2:]\n",
    "            res3 =  [(x5*x6) for (x5, x6) in zip(l5, l6)]\n",
    "            for r3 in res3:\n",
    "                    return r3\n",
    "\n",
    "        \n",
    "    \n",
    "    "
   ]
  },
  {
   "cell_type": "code",
   "execution_count": 60,
   "id": "208b4aea",
   "metadata": {},
   "outputs": [
    {
     "data": {
      "text/plain": [
       "24"
      ]
     },
     "execution_count": 60,
     "metadata": {},
     "output_type": "execute_result"
    }
   ],
   "source": [
    "arithmetic_operation('12 + 12')"
   ]
  },
  {
   "cell_type": "code",
   "execution_count": 61,
   "id": "c6414be5",
   "metadata": {},
   "outputs": [
    {
     "data": {
      "text/plain": [
       "0"
      ]
     },
     "execution_count": 61,
     "metadata": {},
     "output_type": "execute_result"
    }
   ],
   "source": [
    "arithmetic_operation('12 - 12')"
   ]
  },
  {
   "cell_type": "code",
   "execution_count": 62,
   "id": "07febbab",
   "metadata": {},
   "outputs": [
    {
     "data": {
      "text/plain": [
       "144"
      ]
     },
     "execution_count": 62,
     "metadata": {},
     "output_type": "execute_result"
    }
   ],
   "source": [
    "arithmetic_operation('12 * 12')"
   ]
  },
  {
   "cell_type": "code",
   "execution_count": 64,
   "id": "2a087bcd",
   "metadata": {},
   "outputs": [
    {
     "data": {
      "text/plain": [
       "-1"
      ]
     },
     "execution_count": 64,
     "metadata": {},
     "output_type": "execute_result"
    }
   ],
   "source": [
    "arithmetic_operation('12 // 0')"
   ]
  },
  {
   "cell_type": "markdown",
   "id": "4cab1a7f",
   "metadata": {},
   "source": [
    "2. Write a function that takes the coordinates of three points in the form of a\n",
    "2d array and returns the perimeter of the triangle. The given points are the\n",
    "vertices of a triangle on a two-dimensional plane."
   ]
  },
  {
   "cell_type": "code",
   "execution_count": 302,
   "id": "0460d3b6",
   "metadata": {},
   "outputs": [
    {
     "name": "stdout",
     "output_type": "stream",
     "text": [
      "47.07918859608948\n",
      "3.414213562373095\n",
      "68.2842712474619\n"
     ]
    }
   ],
   "source": [
    "import math\n",
    "def distance2D(xA,yA,xB,yB):\n",
    "    return math.sqrt((xA-xB)*(xA-xB)+(yA-yB)*(yA-yB))\n",
    "\n",
    "def trianglePerimeter(xA,yA,xB,yB,xC,yC):\n",
    "    return distance2D(xA,yA,xB,yB)+distance2D(xA,yA,xC,yC)+distance2D(xC,yC,xB,yB)\n",
    "\n",
    "\n",
    "print(trianglePerimeter(15,7,5,22,11,1))\n",
    "print(trianglePerimeter(0,0,0,1,1,0))\n",
    "print(trianglePerimeter(-10,-10,10,10,-10,10))\n",
    "\n"
   ]
  },
  {
   "cell_type": "markdown",
   "id": "3b706190",
   "metadata": {},
   "source": [
    "3. Create a function that takes a skyline (2-D list of 0&#39;s and 1&#39;s) and returns the\n",
    "height of the tallest skyscraper."
   ]
  },
  {
   "cell_type": "code",
   "execution_count": 206,
   "id": "8d0ef197",
   "metadata": {},
   "outputs": [],
   "source": [
    "def tallest_skyscraper(l):\n",
    "    max_l = []\n",
    "    for i in range(len(l)):\n",
    "        for j in l[i]:\n",
    "            if l[i].count(j == 1) == 1:\n",
    "                max_l.append(len(l) - i)\n",
    "    return max(max_l)\n"
   ]
  },
  {
   "cell_type": "code",
   "execution_count": 207,
   "id": "fd41c81f",
   "metadata": {},
   "outputs": [
    {
     "data": {
      "text/plain": [
       "3"
      ]
     },
     "execution_count": 207,
     "metadata": {},
     "output_type": "execute_result"
    }
   ],
   "source": [
    "tallest_skyscraper([[0, 0, 0, 0],\n",
    "[0, 1, 0, 0],\n",
    "[0, 1, 1, 0],\n",
    "[1, 1, 1, 1]])"
   ]
  },
  {
   "cell_type": "code",
   "execution_count": 208,
   "id": "9ba8594d",
   "metadata": {},
   "outputs": [
    {
     "data": {
      "text/plain": [
       "4"
      ]
     },
     "execution_count": 208,
     "metadata": {},
     "output_type": "execute_result"
    }
   ],
   "source": [
    "tallest_skyscraper([\n",
    "[0, 1, 0, 0],\n",
    "[0, 1, 0, 0],\n",
    "[0, 1, 1, 0],\n",
    "[1, 1, 1, 1]])"
   ]
  },
  {
   "cell_type": "code",
   "execution_count": 209,
   "id": "1316553d",
   "metadata": {},
   "outputs": [
    {
     "data": {
      "text/plain": [
       "2"
      ]
     },
     "execution_count": 209,
     "metadata": {},
     "output_type": "execute_result"
    }
   ],
   "source": [
    "tallest_skyscraper([\n",
    "[0, 0, 0, 0],\n",
    "[0, 0, 0, 0],\n",
    "[1, 1, 1, 0],\n",
    "[1, 1, 1, 1]])"
   ]
  },
  {
   "cell_type": "markdown",
   "id": "95df5bda",
   "metadata": {},
   "source": [
    "4. Write a function to read the billable days of an employee and return the bonus\n",
    "he/she has obtained in that quarter.\n",
    "\n",
    "Please note that incentive payment is calculated progressively. As an\n",
    "example, if an employee reached total billable days of 45 in a quarter, his/her\n",
    "incentive payment is computed as follows:\n",
    "32*0 + 8*325 + 5*550 = 5350\n"
   ]
  },
  {
   "cell_type": "code",
   "execution_count": 234,
   "id": "79e4f2ff",
   "metadata": {},
   "outputs": [],
   "source": [
    "def bonus(x):\n",
    "    if x > 48 :\n",
    "        m1 = (x - 48)*600\n",
    "        m2 = (48 - 40)*550\n",
    "        m3 = (40 - 32)*325\n",
    "        m = m1 + m2 + m3\n",
    "        print(m)\n",
    "    \n",
    "    elif 48 <= x > 40:\n",
    "        m4 = (x - 40)*550\n",
    "        m5 = (40 - 32)*325\n",
    "        m_ = m4+m5\n",
    "        print(m_)\n",
    "\n",
    "    elif x <= 40 or x > 32:\n",
    "        m6 = (x - 32)*325\n",
    "        m__ = m6\n",
    "        if m__ > 0:\n",
    "            print(m__)\n",
    "        else:\n",
    "            print(0)    "
   ]
  },
  {
   "cell_type": "code",
   "execution_count": 271,
   "id": "4624811e",
   "metadata": {},
   "outputs": [
    {
     "name": "stdout",
     "output_type": "stream",
     "text": [
      "0\n"
     ]
    }
   ],
   "source": [
    "bonus(15)"
   ]
  },
  {
   "cell_type": "code",
   "execution_count": 272,
   "id": "31bf4a71",
   "metadata": {},
   "outputs": [
    {
     "name": "stdout",
     "output_type": "stream",
     "text": [
      "1625\n"
     ]
    }
   ],
   "source": [
    "bonus(37)"
   ]
  },
  {
   "cell_type": "code",
   "execution_count": 273,
   "id": "eec41fa1",
   "metadata": {},
   "outputs": [
    {
     "name": "stdout",
     "output_type": "stream",
     "text": [
      "8200\n"
     ]
    }
   ],
   "source": [
    "bonus(50)"
   ]
  },
  {
   "cell_type": "markdown",
   "id": "37bfc6cf",
   "metadata": {},
   "source": [
    "5. A number is said to be Disarium if the sum of its digits raised to their\n",
    "respective positions is the number itself.\n",
    "Create a function that determines whether a number is a Disarium or not."
   ]
  },
  {
   "cell_type": "code",
   "execution_count": 264,
   "id": "f5a28f9b",
   "metadata": {},
   "outputs": [],
   "source": [
    "def is_disarium(x):\n",
    "    x_s = str(x)\n",
    "    x_ss = '0' + x_s\n",
    "    main = []\n",
    "    for ind,i in enumerate(x_ss):\n",
    "        main.append(int(i)**ind)\n",
    "    main.pop(0)\n",
    "    s = sum(main)\n",
    "\n",
    "    if s == x:\n",
    "        return True\n",
    "    else:\n",
    "        return False\n",
    "\n",
    "    "
   ]
  },
  {
   "cell_type": "code",
   "execution_count": 265,
   "id": "b906b18c",
   "metadata": {},
   "outputs": [
    {
     "data": {
      "text/plain": [
       "False"
      ]
     },
     "execution_count": 265,
     "metadata": {},
     "output_type": "execute_result"
    }
   ],
   "source": [
    "is_disarium(75)"
   ]
  },
  {
   "cell_type": "code",
   "execution_count": 266,
   "id": "a00d120d",
   "metadata": {},
   "outputs": [
    {
     "data": {
      "text/plain": [
       "True"
      ]
     },
     "execution_count": 266,
     "metadata": {},
     "output_type": "execute_result"
    }
   ],
   "source": [
    "is_disarium(135)"
   ]
  },
  {
   "cell_type": "code",
   "execution_count": 267,
   "id": "7e82c914",
   "metadata": {},
   "outputs": [
    {
     "data": {
      "text/plain": [
       "False"
      ]
     },
     "execution_count": 267,
     "metadata": {},
     "output_type": "execute_result"
    }
   ],
   "source": [
    "is_disarium(544)"
   ]
  },
  {
   "cell_type": "code",
   "execution_count": 268,
   "id": "f2c404e9",
   "metadata": {},
   "outputs": [
    {
     "data": {
      "text/plain": [
       "True"
      ]
     },
     "execution_count": 268,
     "metadata": {},
     "output_type": "execute_result"
    }
   ],
   "source": [
    "is_disarium(518)"
   ]
  },
  {
   "cell_type": "code",
   "execution_count": 269,
   "id": "07343089",
   "metadata": {},
   "outputs": [
    {
     "data": {
      "text/plain": [
       "False"
      ]
     },
     "execution_count": 269,
     "metadata": {},
     "output_type": "execute_result"
    }
   ],
   "source": [
    "is_disarium(466)"
   ]
  },
  {
   "cell_type": "code",
   "execution_count": 270,
   "id": "81852318",
   "metadata": {},
   "outputs": [
    {
     "data": {
      "text/plain": [
       "True"
      ]
     },
     "execution_count": 270,
     "metadata": {},
     "output_type": "execute_result"
    }
   ],
   "source": [
    "is_disarium(8)"
   ]
  },
  {
   "cell_type": "code",
   "execution_count": null,
   "id": "6807fed9",
   "metadata": {},
   "outputs": [],
   "source": []
  }
 ],
 "metadata": {
  "kernelspec": {
   "display_name": "Python 3 (ipykernel)",
   "language": "python",
   "name": "python3"
  },
  "language_info": {
   "codemirror_mode": {
    "name": "ipython",
    "version": 3
   },
   "file_extension": ".py",
   "mimetype": "text/x-python",
   "name": "python",
   "nbconvert_exporter": "python",
   "pygments_lexer": "ipython3",
   "version": "3.9.12"
  }
 },
 "nbformat": 4,
 "nbformat_minor": 5
}
