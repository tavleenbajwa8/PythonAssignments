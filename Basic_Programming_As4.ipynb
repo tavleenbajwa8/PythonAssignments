{
 "cells": [
  {
   "cell_type": "code",
   "execution_count": 1,
   "id": "2c5b897a",
   "metadata": {},
   "outputs": [],
   "source": [
    "#Write a Python Program to Find the Factorial of a Number?"
   ]
  },
  {
   "cell_type": "code",
   "execution_count": 16,
   "id": "a9527b3f",
   "metadata": {},
   "outputs": [
    {
     "name": "stdout",
     "output_type": "stream",
     "text": [
      "6\n",
      "Factorial of 6 is: 720\n"
     ]
    }
   ],
   "source": [
    "def fact(x):\n",
    "    n = 1\n",
    "    for i in range(1, x+1):\n",
    "        n = n*i\n",
    "    return n\n",
    "\n",
    "x = int(input())\n",
    "print(\"Factorial of\", x, \"is:\", fact(x))"
   ]
  },
  {
   "cell_type": "code",
   "execution_count": 17,
   "id": "6cd401f8",
   "metadata": {},
   "outputs": [],
   "source": [
    "#Write a Python Program to Display the multiplication Table?"
   ]
  },
  {
   "cell_type": "code",
   "execution_count": 19,
   "id": "a94ab280",
   "metadata": {},
   "outputs": [
    {
     "name": "stdout",
     "output_type": "stream",
     "text": [
      "12 X 1 = 12\n",
      "12 X 2 = 24\n",
      "12 X 3 = 36\n",
      "12 X 4 = 48\n",
      "12 X 5 = 60\n",
      "12 X 6 = 72\n",
      "12 X 7 = 84\n",
      "12 X 8 = 96\n",
      "12 X 9 = 108\n",
      "12 X 10 = 120\n"
     ]
    }
   ],
   "source": [
    "x = 12\n",
    "n = 1\n",
    "\n",
    "for i in range(1,11):\n",
    "    print(x, 'X', i, '=', x*i)"
   ]
  },
  {
   "cell_type": "code",
   "execution_count": 20,
   "id": "ed8d5f11",
   "metadata": {},
   "outputs": [
    {
     "name": "stdout",
     "output_type": "stream",
     "text": [
      "Enter the number you want multiplication table for: 12\n",
      "12 X 1 = 12\n",
      "12 X 2 = 24\n",
      "12 X 3 = 36\n",
      "12 X 4 = 48\n",
      "12 X 5 = 60\n",
      "12 X 6 = 72\n",
      "12 X 7 = 84\n",
      "12 X 8 = 96\n",
      "12 X 9 = 108\n",
      "12 X 10 = 120\n"
     ]
    }
   ],
   "source": [
    "def m_table(x):\n",
    "    n = 1\n",
    "    for i in range(1,11):\n",
    "        print(x, 'X', i, '=', x*i)\n",
    "x = int(input(\"Enter the number you want multiplication table for: \"))\n",
    "m_table(x)"
   ]
  },
  {
   "cell_type": "code",
   "execution_count": 21,
   "id": "adc78cd5",
   "metadata": {},
   "outputs": [],
   "source": [
    "#Write a Python Program to Print the Fibonacci sequence?"
   ]
  },
  {
   "cell_type": "code",
   "execution_count": 29,
   "id": "ceb37935",
   "metadata": {},
   "outputs": [
    {
     "name": "stdout",
     "output_type": "stream",
     "text": [
      "1\n",
      "1\n",
      "2\n",
      "3\n",
      "5\n",
      "8\n",
      "13\n",
      "21\n",
      "34\n",
      "55\n"
     ]
    }
   ],
   "source": [
    "def fibon(n):\n",
    "    a = 1\n",
    "    b = 1\n",
    "    for i in range(n):\n",
    "        yield a\n",
    "        a,b = b, a+b\n",
    "        \n",
    "for j in fibon(10):\n",
    "    print(j)\n"
   ]
  },
  {
   "cell_type": "code",
   "execution_count": 30,
   "id": "fe5e580f",
   "metadata": {},
   "outputs": [],
   "source": [
    "#Write a Python Program to Check Armstrong Number?"
   ]
  },
  {
   "cell_type": "code",
   "execution_count": 60,
   "id": "1d2a30ba",
   "metadata": {},
   "outputs": [
    {
     "name": "stdout",
     "output_type": "stream",
     "text": [
      "153 is an Armstrong number\n"
     ]
    }
   ],
   "source": [
    "num = 153\n",
    "rev = 0\n",
    "l = []\n",
    "x = num\n",
    "while x > 0:\n",
    "    rem = (x%10)**3\n",
    "    rev = rev + rem \n",
    "    x = x//10\n",
    "if num == rev:\n",
    "    print(num, \"is an Armstrong number\")\n",
    "else:\n",
    "    print(num, \"is not an Armstrong number\")"
   ]
  },
  {
   "cell_type": "code",
   "execution_count": 61,
   "id": "b6c76044",
   "metadata": {},
   "outputs": [],
   "source": [
    "#Write a Python Program to Find Armstrong Number in an Interval?"
   ]
  },
  {
   "cell_type": "code",
   "execution_count": 69,
   "id": "9e9e1225",
   "metadata": {},
   "outputs": [
    {
     "name": "stdout",
     "output_type": "stream",
     "text": [
      "Armstrong number 1634\n",
      "Armstrong number 8208\n",
      "Armstrong number 9474\n",
      "Armstrong number 54748\n",
      "Armstrong number 92727\n",
      "Armstrong number 93084\n"
     ]
    }
   ],
   "source": [
    "lower = 1000\n",
    "upper = 500000\n",
    "\n",
    "for i in range(lower, upper+1):\n",
    "    power = len(str(i))\n",
    "    \n",
    "    s = 0\n",
    "    temp = i\n",
    "    while temp > 0:\n",
    "        rem = (temp%10)**power\n",
    "        s = s + rem\n",
    "        temp = temp//10\n",
    "       \n",
    "    if i == s:\n",
    "        print(\"Armstrong number\",i)"
   ]
  },
  {
   "cell_type": "code",
   "execution_count": 70,
   "id": "7f49a0f0",
   "metadata": {},
   "outputs": [],
   "source": [
    "#Write a Python Program to Find the Sum of Natural Numbers?"
   ]
  },
  {
   "cell_type": "code",
   "execution_count": 88,
   "id": "06f9204b",
   "metadata": {},
   "outputs": [
    {
     "name": "stdout",
     "output_type": "stream",
     "text": [
      "5050.0\n"
     ]
    }
   ],
   "source": [
    "#Using formula n(n+1)/2\n",
    "n = 100\n",
    "a = n + 1\n",
    "print(a*n/2)"
   ]
  },
  {
   "cell_type": "code",
   "execution_count": 91,
   "id": "f8be861e",
   "metadata": {},
   "outputs": [
    {
     "name": "stdout",
     "output_type": "stream",
     "text": [
      "5050\n"
     ]
    }
   ],
   "source": [
    "#Without using formula\n",
    "n = 100\n",
    "sum = 0\n",
    "for i in range(0, n+1):\n",
    "    sum = sum + i\n",
    "print(sum)"
   ]
  },
  {
   "cell_type": "code",
   "execution_count": null,
   "id": "cd25a05d",
   "metadata": {},
   "outputs": [],
   "source": []
  }
 ],
 "metadata": {
  "kernelspec": {
   "display_name": "Python 3 (ipykernel)",
   "language": "python",
   "name": "python3"
  },
  "language_info": {
   "codemirror_mode": {
    "name": "ipython",
    "version": 3
   },
   "file_extension": ".py",
   "mimetype": "text/x-python",
   "name": "python",
   "nbconvert_exporter": "python",
   "pygments_lexer": "ipython3",
   "version": "3.9.12"
  }
 },
 "nbformat": 4,
 "nbformat_minor": 5
}
