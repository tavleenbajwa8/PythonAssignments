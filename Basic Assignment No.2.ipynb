{
 "cells": [
  {
   "cell_type": "raw",
   "id": "48336026",
   "metadata": {},
   "source": [
    "1.What are the two values of the Boolean data type? How do you write them?\n",
    "\n",
    "The class bool is a subclass of the class int. Boolean type is one of the built-in data types provided by Python, which \n",
    "represents one of the two values i.e. True or False. Generally, it is used to represent the truth values of the expressions. For example, 1 == 1 is True whereas 2<1 is False."
   ]
  },
  {
   "cell_type": "code",
   "execution_count": 21,
   "id": "ff0d816d",
   "metadata": {},
   "outputs": [
    {
     "name": "stdout",
     "output_type": "stream",
     "text": [
      "c is False and it is <class 'bool'>\n",
      "d is True and it is <class 'bool'>\n"
     ]
    }
   ],
   "source": [
    "#Example\n",
    "a = 2\n",
    "b = 3\n",
    "c = a > b\n",
    "d = a < b\n",
    "print(\"c is\",c, \"and it is\",type(c))\n",
    "print(\"d is\",d, \"and it is\", type(d))"
   ]
  },
  {
   "cell_type": "raw",
   "id": "8bd51e1f",
   "metadata": {},
   "source": [
    "2. What are the three different types of Boolean operators?\n",
    "\n",
    "There are three logical operators that are used to compare values. They evaluate expressions down to Boolean values,\n",
    "returning either True or False . These operators are AND , OR , and NOT.  "
   ]
  },
  {
   "cell_type": "raw",
   "id": "a38fbaef",
   "metadata": {},
   "source": [
    "3. Make a list of each Boolean operator's truth tables (i.e. every possible combination of Boolean values for the \n",
    "operator and what it evaluate).\n",
    "\n",
    "AND: True if both are true. Eg: a and b \n",
    "OR: True if atleast one is true. Eg: a or b \n",
    "NOT: True only if false. Eg: Not x \n",
    "        \n",
    "== Truth Table\n",
    "x       ==    y     Returns\n",
    "True    ==  True     True\n",
    "True    ==  False    False\n",
    "False   ==  True     False\n",
    "False   ==  False    True\n",
    "\n",
    "AND Table\n",
    "x       ==    y     Returns\n",
    "True    ==  True     True\n",
    "True    ==  False    False\n",
    "False   ==  True     False\n",
    "False   ==  False    False\n",
    "\n",
    "OR Table\n",
    "x       ==    y     Returns\n",
    "True    ==  True     True\n",
    "True    ==  False    True\n",
    "False   ==  True     True\n",
    "False   ==  False    False\n",
    "\n",
    "NOT Table\n",
    "not     ==    x     Returns\n",
    "not     ==  True     False\n",
    "not     ==  False    True"
   ]
  },
  {
   "cell_type": "raw",
   "id": "9339b547",
   "metadata": {},
   "source": [
    "4. What are the values of the following expressions?\n",
    "(5 > 4) and (3 == 5): False\n",
    "not (5 > 4): False\n",
    "(5 > 4) or (3 == 5): True\n",
    "not ((5 > 4) or (3 == 5)): False\n",
    "(True and True) and (True == False): False\n",
    "(not False) or (not True): True"
   ]
  },
  {
   "cell_type": "code",
   "execution_count": 1,
   "id": "f9873831",
   "metadata": {},
   "outputs": [
    {
     "data": {
      "text/plain": [
       "False"
      ]
     },
     "execution_count": 1,
     "metadata": {},
     "output_type": "execute_result"
    }
   ],
   "source": [
    "(5 > 4) and (3 == 5)"
   ]
  },
  {
   "cell_type": "code",
   "execution_count": 2,
   "id": "0a1ac042",
   "metadata": {},
   "outputs": [
    {
     "data": {
      "text/plain": [
       "False"
      ]
     },
     "execution_count": 2,
     "metadata": {},
     "output_type": "execute_result"
    }
   ],
   "source": [
    "not (5 > 4)"
   ]
  },
  {
   "cell_type": "code",
   "execution_count": 3,
   "id": "fce27cde",
   "metadata": {},
   "outputs": [
    {
     "data": {
      "text/plain": [
       "True"
      ]
     },
     "execution_count": 3,
     "metadata": {},
     "output_type": "execute_result"
    }
   ],
   "source": [
    "(5 > 4) or (3 == 5)"
   ]
  },
  {
   "cell_type": "code",
   "execution_count": 4,
   "id": "bd7736e6",
   "metadata": {},
   "outputs": [
    {
     "data": {
      "text/plain": [
       "False"
      ]
     },
     "execution_count": 4,
     "metadata": {},
     "output_type": "execute_result"
    }
   ],
   "source": [
    "not ((5 > 4) or (3 == 5))"
   ]
  },
  {
   "cell_type": "code",
   "execution_count": 5,
   "id": "4ab6c523",
   "metadata": {},
   "outputs": [
    {
     "data": {
      "text/plain": [
       "False"
      ]
     },
     "execution_count": 5,
     "metadata": {},
     "output_type": "execute_result"
    }
   ],
   "source": [
    "(True and True) and (True == False)"
   ]
  },
  {
   "cell_type": "code",
   "execution_count": 7,
   "id": "5947736a",
   "metadata": {},
   "outputs": [
    {
     "data": {
      "text/plain": [
       "True"
      ]
     },
     "execution_count": 7,
     "metadata": {},
     "output_type": "execute_result"
    }
   ],
   "source": [
    "(not False) or (not True)"
   ]
  },
  {
   "cell_type": "raw",
   "id": "1b50fcd2",
   "metadata": {},
   "source": [
    "5. What are the six comparison operators?\n",
    "\n",
    "Comparison operators — operators that compare values and return true or false .\n",
    "The operators include: > (Greater than) , < (Lesser than) , >= (Greater than or equal to) , <= (Less than or equal to) , \n",
    "== (Equal to) , and !== (Not equal to) ."
   ]
  },
  {
   "cell_type": "raw",
   "id": "c4afda4c",
   "metadata": {},
   "source": [
    "6. How do you tell the difference between the equal to and assignment operators?Describe a condition and \n",
    "when you would use one.\n",
    "The “=” is an assignment operator is used to assign the value on the right to the variable on the left. \n",
    "The '==' equal to operator checks whether the two given operands are equal or not.\n",
    "If so, it returns true. Otherwise it returns false"
   ]
  },
  {
   "cell_type": "raw",
   "id": "42ab4299",
   "metadata": {},
   "source": [
    "7. Identify the three blocks in this code:\n",
    "\n",
    "spam = 0\n",
    "if spam == 10:\n",
    "print('eggs')\n",
    "if spam > 5:\n",
    "print('bacon')\n",
    "else:\n",
    "print('ham')\n",
    "print('spam')\n",
    "print('spam')"
   ]
  },
  {
   "cell_type": "code",
   "execution_count": 8,
   "id": "c3211793",
   "metadata": {},
   "outputs": [
    {
     "name": "stdout",
     "output_type": "stream",
     "text": [
      "ham\n",
      "spam\n",
      "spam\n"
     ]
    }
   ],
   "source": [
    "#Answers\n",
    "spam = 0\n",
    "\n",
    "if spam == 10:\n",
    "    print('eggs')\n",
    "\n",
    "if spam > 5:\n",
    "    print('bacon')\n",
    "\n",
    "else:\n",
    "    print('ham')\n",
    "    print('spam')\n",
    "    print('spam')"
   ]
  },
  {
   "cell_type": "raw",
   "id": "a171fec0",
   "metadata": {},
   "source": [
    "8. Write code that prints Hello if 1 is stored in spam, prints Howdy if 2 is stored in spam, and prints Greetings!\n",
    "if anything else is stored in spam."
   ]
  },
  {
   "cell_type": "code",
   "execution_count": 24,
   "id": "06abe910",
   "metadata": {},
   "outputs": [
    {
     "name": "stdout",
     "output_type": "stream",
     "text": [
      "Greetings!\n"
     ]
    }
   ],
   "source": [
    "spam = 8\n",
    "\n",
    "if spam == 1:\n",
    "    print(\"Hello\")\n",
    "    \n",
    "elif spam == 2:\n",
    "    print('Howdy')\n",
    "    \n",
    "else:\n",
    "     print('Greetings!')\n",
    "    "
   ]
  },
  {
   "cell_type": "raw",
   "id": "376e5fc7",
   "metadata": {},
   "source": [
    "9.If your programme is stuck in an endless loop, what keys you’ll press?\n",
    "\n",
    "Ctrl + C"
   ]
  },
  {
   "cell_type": "raw",
   "id": "6515a565",
   "metadata": {},
   "source": [
    "10. How can you tell the difference between break and continue?\n",
    "The Python break statement stops the loop in which the statement is placed. A Python continue statement skips a single\n",
    "iteration in a loop. Both break and continue statements can be used in a for or a while loop.\n",
    "The continue statement allows you to skip part of a loop when a condition is met.\n"
   ]
  },
  {
   "cell_type": "code",
   "execution_count": 2,
   "id": "41300c09",
   "metadata": {},
   "outputs": [
    {
     "name": "stdout",
     "output_type": "stream",
     "text": [
      "1\n",
      "2\n",
      "3\n"
     ]
    }
   ],
   "source": [
    "l = [1,2,3,4,5,6]\n",
    "for i in l:\n",
    "    if i == 4:\n",
    "        break                #Stops the loop when i becomes 4\n",
    "    print(i)"
   ]
  },
  {
   "cell_type": "code",
   "execution_count": 3,
   "id": "4984cbff",
   "metadata": {},
   "outputs": [
    {
     "name": "stdout",
     "output_type": "stream",
     "text": [
      "1\n",
      "2\n",
      "3\n",
      "5\n",
      "6\n"
     ]
    }
   ],
   "source": [
    "l = [1,2,3,4,5,6]\n",
    "for i in l:\n",
    "    if i == 4:\n",
    "        continue          #Skips the part of loop which is 4 here and further continues.\n",
    "    print(i)"
   ]
  },
  {
   "cell_type": "raw",
   "id": "eb5e4879",
   "metadata": {},
   "source": [
    "11. In a for loop, what is the difference between range(10), range(0, 10), and range(0, 10, 1)?\n",
    "\n",
    "Ans: All three are same.\n",
    "#1 range(10) denotes an in-built function which will return us a sequence of numbers starting from 0 \n",
    "till the last number but excluding the last number. By default the start point is 0 with a step size of 1 by default.\n",
    "The start point, final point and step size may vary.\n",
    "#2 range(0,10) denotes the start point 0 and final point 10\n",
    "#3 range(0,10,1) denotes the start point 0 and final point 10 and step size as 1"
   ]
  },
  {
   "cell_type": "code",
   "execution_count": 26,
   "id": "a03f75fa",
   "metadata": {},
   "outputs": [
    {
     "name": "stdout",
     "output_type": "stream",
     "text": [
      "0\n",
      "1\n",
      "2\n",
      "3\n",
      "4\n",
      "5\n",
      "6\n",
      "7\n",
      "8\n",
      "9\n"
     ]
    }
   ],
   "source": [
    "for i in range(10):\n",
    "    print(i)"
   ]
  },
  {
   "cell_type": "code",
   "execution_count": 28,
   "id": "e95d41c1",
   "metadata": {},
   "outputs": [
    {
     "name": "stdout",
     "output_type": "stream",
     "text": [
      "0\n",
      "1\n",
      "2\n",
      "3\n",
      "4\n",
      "5\n",
      "6\n",
      "7\n",
      "8\n",
      "9\n"
     ]
    }
   ],
   "source": [
    "for i in range(0,10):\n",
    "    print(i)"
   ]
  },
  {
   "cell_type": "code",
   "execution_count": 29,
   "id": "e2c2e98f",
   "metadata": {},
   "outputs": [
    {
     "name": "stdout",
     "output_type": "stream",
     "text": [
      "0\n",
      "1\n",
      "2\n",
      "3\n",
      "4\n",
      "5\n",
      "6\n",
      "7\n",
      "8\n",
      "9\n"
     ]
    }
   ],
   "source": [
    "for i in range(0,10, 1):\n",
    "    print(i)"
   ]
  },
  {
   "cell_type": "code",
   "execution_count": null,
   "id": "2459e1ce",
   "metadata": {},
   "outputs": [],
   "source": [
    "12. Write a short program that prints the numbers 1 to 10 using a for loop. Then write an equivalent program \n",
    "that prints the numbers 1 to 10 using a while loop.\n"
   ]
  },
  {
   "cell_type": "code",
   "execution_count": 30,
   "id": "f0faebf7",
   "metadata": {},
   "outputs": [
    {
     "name": "stdout",
     "output_type": "stream",
     "text": [
      "1\n",
      "2\n",
      "3\n",
      "4\n",
      "5\n",
      "6\n",
      "7\n",
      "8\n",
      "9\n",
      "10\n"
     ]
    }
   ],
   "source": [
    "#For loop\n",
    "for i in range(1,11):\n",
    "    print(i)"
   ]
  },
  {
   "cell_type": "code",
   "execution_count": 1,
   "id": "395abf09",
   "metadata": {},
   "outputs": [
    {
     "name": "stdout",
     "output_type": "stream",
     "text": [
      "1\n",
      "2\n",
      "3\n",
      "4\n",
      "5\n",
      "6\n",
      "7\n",
      "8\n",
      "9\n",
      "10\n"
     ]
    }
   ],
   "source": [
    "#While loop\n",
    "i = 1\n",
    "while i < 11:\n",
    "    print(i)\n",
    "    i += 1"
   ]
  },
  {
   "cell_type": "raw",
   "id": "091cacdc",
   "metadata": {},
   "source": [
    "13. If you had a function named bacon() inside a module named spam, how would you call it after importing spam?\n"
   ]
  },
  {
   "cell_type": "code",
   "execution_count": 2,
   "id": "9cb96c96",
   "metadata": {},
   "outputs": [
    {
     "data": {
      "text/plain": [
       "'C:\\\\Users\\\\Lakshya\\\\DS_Python\\\\Assignments'"
      ]
     },
     "execution_count": 2,
     "metadata": {},
     "output_type": "execute_result"
    }
   ],
   "source": [
    "pwd()"
   ]
  },
  {
   "cell_type": "code",
   "execution_count": 3,
   "id": "70e96f16",
   "metadata": {},
   "outputs": [],
   "source": [
    "import os"
   ]
  },
  {
   "cell_type": "code",
   "execution_count": 4,
   "id": "b989934d",
   "metadata": {},
   "outputs": [],
   "source": [
    "os.chdir(\"C:\\\\Users\\\\Lakshya\\\\DS_Python\\\\Assignments\\\\Spam\")"
   ]
  },
  {
   "cell_type": "code",
   "execution_count": 5,
   "id": "87722a66",
   "metadata": {},
   "outputs": [
    {
     "data": {
      "text/plain": [
       "'C:\\\\Users\\\\Lakshya\\\\DS_Python\\\\Assignments\\\\Spam'"
      ]
     },
     "execution_count": 5,
     "metadata": {},
     "output_type": "execute_result"
    }
   ],
   "source": [
    "pwd()"
   ]
  },
  {
   "cell_type": "code",
   "execution_count": 8,
   "id": "e8824c6b",
   "metadata": {},
   "outputs": [
    {
     "name": "stdout",
     "output_type": "stream",
     "text": [
      "This is my name Penny\n"
     ]
    }
   ],
   "source": [
    "from Baconfunct import bacon"
   ]
  },
  {
   "cell_type": "code",
   "execution_count": null,
   "id": "e6a854b5",
   "metadata": {},
   "outputs": [],
   "source": []
  }
 ],
 "metadata": {
  "kernelspec": {
   "display_name": "Python 3",
   "language": "python",
   "name": "python3"
  },
  "language_info": {
   "codemirror_mode": {
    "name": "ipython",
    "version": 3
   },
   "file_extension": ".py",
   "mimetype": "text/x-python",
   "name": "python",
   "nbconvert_exporter": "python",
   "pygments_lexer": "ipython3",
   "version": "3.8.8"
  }
 },
 "nbformat": 4,
 "nbformat_minor": 5
}
