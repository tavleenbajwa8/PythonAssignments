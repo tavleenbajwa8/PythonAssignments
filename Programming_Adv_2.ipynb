{
 "cells": [
  {
   "cell_type": "markdown",
   "id": "16cb8c85",
   "metadata": {},
   "source": [
    "1.Write a function that takes a positive integer num and calculates how many\n",
    "dots exist in a pentagonal shape around the center dot on the Nth iteration.\n",
    "In the image below you can see the first iteration is only a single dot. On the\n",
    "second, there are 6 dots. On the third, there are 16 dots, and on the fourth\n",
    "there are 31 dots."
   ]
  },
  {
   "cell_type": "code",
   "execution_count": 47,
   "id": "c3c17837",
   "metadata": {},
   "outputs": [],
   "source": [
    "def dots_calc(x):\n",
    "    l1 = [1]\n",
    "    if x > 1:\n",
    "        for i in range(1,x):\n",
    "            l1.append(i*5)\n",
    "        return sum(l1)\n",
    "    \n",
    "    else:\n",
    "        return 1"
   ]
  },
  {
   "cell_type": "code",
   "execution_count": 49,
   "id": "9e3b585c",
   "metadata": {},
   "outputs": [
    {
     "data": {
      "text/plain": [
       "1"
      ]
     },
     "execution_count": 49,
     "metadata": {},
     "output_type": "execute_result"
    }
   ],
   "source": [
    "dots_calc(1)"
   ]
  },
  {
   "cell_type": "code",
   "execution_count": 50,
   "id": "5ebaa9aa",
   "metadata": {},
   "outputs": [
    {
     "data": {
      "text/plain": [
       "6"
      ]
     },
     "execution_count": 50,
     "metadata": {},
     "output_type": "execute_result"
    }
   ],
   "source": [
    "dots_calc(2)"
   ]
  },
  {
   "cell_type": "code",
   "execution_count": 51,
   "id": "9eb0fb43",
   "metadata": {},
   "outputs": [
    {
     "data": {
      "text/plain": [
       "16"
      ]
     },
     "execution_count": 51,
     "metadata": {},
     "output_type": "execute_result"
    }
   ],
   "source": [
    "dots_calc(3)"
   ]
  },
  {
   "cell_type": "code",
   "execution_count": 48,
   "id": "2cafc57d",
   "metadata": {},
   "outputs": [
    {
     "data": {
      "text/plain": [
       "141"
      ]
     },
     "execution_count": 48,
     "metadata": {},
     "output_type": "execute_result"
    }
   ],
   "source": [
    "dots_calc(8)"
   ]
  },
  {
   "cell_type": "markdown",
   "id": "509f03a6",
   "metadata": {},
   "source": [
    "2. Make a function that encrypts a given input with these steps:\n",
    "Input: \"apple\"\n",
    "Step 1: Reverse the input:\"elppa\";\n",
    "Step 2: Replace all vowels using the following chart:\n",
    "a => 0\n",
    "e => 1\n",
    "i =>  2\n",
    "o => 2\n",
    "u =>  3"
   ]
  },
  {
   "cell_type": "code",
   "execution_count": 105,
   "id": "9758648e",
   "metadata": {},
   "outputs": [],
   "source": [
    "def encrypt(s):\n",
    "    d = {'a': '0', 'e':'1', 'i':'2', 'o':'2', 'u':'3'}\n",
    "    extra_str = 'aca'\n",
    "    l1 = [x for x in s[::-1]]\n",
    "    for i in range(len(l1)):\n",
    "        if l1[i] in d.keys():\n",
    "            (l1[i]) = d[(l1[i])]\n",
    "    l1.append(extra_str)\n",
    "    final = ''.join(l1)\n",
    "    return final\n"
   ]
  },
  {
   "cell_type": "code",
   "execution_count": 106,
   "id": "d7df7d18",
   "metadata": {},
   "outputs": [
    {
     "data": {
      "text/plain": [
       "'1lpp0aca'"
      ]
     },
     "execution_count": 106,
     "metadata": {},
     "output_type": "execute_result"
    }
   ],
   "source": [
    "encrypt(\"apple\")"
   ]
  },
  {
   "cell_type": "code",
   "execution_count": 107,
   "id": "51c5af4c",
   "metadata": {},
   "outputs": [
    {
     "data": {
      "text/plain": [
       "'0n0n0baca'"
      ]
     },
     "execution_count": 107,
     "metadata": {},
     "output_type": "execute_result"
    }
   ],
   "source": [
    "encrypt(\"banana\")"
   ]
  },
  {
   "cell_type": "code",
   "execution_count": 108,
   "id": "496a000e",
   "metadata": {},
   "outputs": [
    {
     "data": {
      "text/plain": [
       "'k0r3baca'"
      ]
     },
     "execution_count": 108,
     "metadata": {},
     "output_type": "execute_result"
    }
   ],
   "source": [
    "encrypt(\"burak\")"
   ]
  },
  {
   "cell_type": "code",
   "execution_count": 109,
   "id": "4cfadc9e",
   "metadata": {},
   "outputs": [
    {
     "data": {
      "text/plain": [
       "'0c0pl0aca'"
      ]
     },
     "execution_count": 109,
     "metadata": {},
     "output_type": "execute_result"
    }
   ],
   "source": [
    "encrypt(\"alpaca\")"
   ]
  },
  {
   "cell_type": "markdown",
   "id": "9bbece55",
   "metadata": {},
   "source": [
    "3. Given the month and year as numbers, return whether that month contains\n",
    "a Friday 13th.(i.e You can check Python&#39;s datetime module)"
   ]
  },
  {
   "cell_type": "code",
   "execution_count": 4,
   "id": "4ca29a1d",
   "metadata": {},
   "outputs": [
    {
     "name": "stdout",
     "output_type": "stream",
     "text": [
      "Enter no. of queries you want to test for: 3\n",
      "Enter month & year: 3 2020\n",
      "Yes\n",
      "Enter month & year: 10 2017\n",
      "Yes\n",
      "Enter month & year: 1 1985\n",
      "No\n"
     ]
    }
   ],
   "source": [
    "import datetime\n",
    "\n",
    "def has_friday_13(month,year):\n",
    "    if datetime.datetime.strptime('13 '+' '+str(month)+' '+str(year), '%d %m %Y').weekday() == 4:\n",
    "        return 'Yes'\n",
    "    else:\n",
    "        return 'No'\n",
    "        \n",
    "queries = int(input(\"Enter no. of queries you want to test for: \"))\n",
    "for q in range(queries):\n",
    "    x, y = input(\"Enter month & year: \").split()\n",
    "    print(has_friday_13(x,y))\n"
   ]
  },
  {
   "cell_type": "markdown",
   "id": "4c7f2512",
   "metadata": {},
   "source": [
    "4. Write a regular expression that will help us count how many bad cookies are produced every day. You must use RegEx negative lookbehind.\n",
    "Eg:\n",
    "lst = [&quot;bad cookie&quot;, &quot;good cookie&quot;, &quot;bad cookie&quot;, &quot;good cookie&quot;, &quot;good cookie&quot;]\n",
    "pattern = &quot;yourregularexpressionhere&quot;\n",
    "len(re.findall(pattern, &quot;, &quot;.join(lst))) ➞ 2"
   ]
  },
  {
   "cell_type": "code",
   "execution_count": 6,
   "id": "1a72f57c",
   "metadata": {},
   "outputs": [
    {
     "data": {
      "text/plain": [
       "2"
      ]
     },
     "execution_count": 6,
     "metadata": {},
     "output_type": "execute_result"
    }
   ],
   "source": [
    "import re\n",
    "lst = [\"bad cookie\", \"good cookie\", \"bad cookie\", \"good cookie\", \"good cookie\"]\n",
    "pattern = \"[ba].\\D\\s\\w*\"\n",
    "\n",
    "len(re.findall(pattern, \",\".join(lst)))"
   ]
  },
  {
   "cell_type": "markdown",
   "id": "88d68248",
   "metadata": {},
   "source": [
    "5. Given a list of words in the singular form, return a set of those words in the\n",
    "plural form if they appear more than once in the list.\n",
    "Examples\n",
    "pluralize([&quot;cow&quot;, &quot;pig&quot;, &quot;cow&quot;, &quot;cow&quot;]) ➞ { &quot;cows&quot;, &quot;pig&quot; }\n",
    "pluralize([&quot;table&quot;, &quot;table&quot;, &quot;table&quot;]) ➞ { &quot;tables&quot; }\n",
    "\n",
    "pluralize([&quot;chair&quot;, &quot;pencil&quot;, &quot;arm&quot;]) ➞ { &quot;chair&quot;, &quot;pencil&quot;, &quot;arm&quot; }"
   ]
  },
  {
   "cell_type": "code",
   "execution_count": 68,
   "id": "9b9448a5",
   "metadata": {},
   "outputs": [],
   "source": [
    "def plurarize(l):\n",
    "    uniq = []\n",
    "    for i in l:\n",
    "        if l.count(i) > 1:\n",
    "            uniq.append(i + 's')\n",
    "        elif l.count(i) == 1:\n",
    "            uniq.append(i)\n",
    "    return set(uniq)"
   ]
  },
  {
   "cell_type": "code",
   "execution_count": 69,
   "id": "f657e390",
   "metadata": {},
   "outputs": [
    {
     "data": {
      "text/plain": [
       "{'cows', 'pig'}"
      ]
     },
     "execution_count": 69,
     "metadata": {},
     "output_type": "execute_result"
    }
   ],
   "source": [
    "plurarize(['cow', 'cow', 'pig'])"
   ]
  },
  {
   "cell_type": "code",
   "execution_count": 71,
   "id": "4252f54f",
   "metadata": {},
   "outputs": [
    {
     "data": {
      "text/plain": [
       "{'tables'}"
      ]
     },
     "execution_count": 71,
     "metadata": {},
     "output_type": "execute_result"
    }
   ],
   "source": [
    "plurarize([\"table\", \"table\", \"table\"])"
   ]
  },
  {
   "cell_type": "code",
   "execution_count": 72,
   "id": "615fe00f",
   "metadata": {},
   "outputs": [
    {
     "data": {
      "text/plain": [
       "{'arm', 'chair', 'pencil'}"
      ]
     },
     "execution_count": 72,
     "metadata": {},
     "output_type": "execute_result"
    }
   ],
   "source": [
    "plurarize([\"chair\", \"pencil\", \"arm\"])"
   ]
  },
  {
   "cell_type": "code",
   "execution_count": null,
   "id": "e1cc7813",
   "metadata": {},
   "outputs": [],
   "source": []
  }
 ],
 "metadata": {
  "kernelspec": {
   "display_name": "Python 3 (ipykernel)",
   "language": "python",
   "name": "python3"
  },
  "language_info": {
   "codemirror_mode": {
    "name": "ipython",
    "version": 3
   },
   "file_extension": ".py",
   "mimetype": "text/x-python",
   "name": "python",
   "nbconvert_exporter": "python",
   "pygments_lexer": "ipython3",
   "version": "3.9.12"
  }
 },
 "nbformat": 4,
 "nbformat_minor": 5
}
