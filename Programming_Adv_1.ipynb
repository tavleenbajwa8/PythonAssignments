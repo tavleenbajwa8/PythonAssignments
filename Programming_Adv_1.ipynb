{
 "cells": [
  {
   "cell_type": "markdown",
   "id": "4410361c",
   "metadata": {},
   "source": [
    "1. Write a function that takes a list of lists and returns the value of all of the\n",
    "symbols in it, where each symbol adds or takes something from the total\n",
    "score. Symbol values:\n",
    "#:5\n",
    "O = 3\n",
    "X = 1\n",
    "! = -1\n",
    "!! = -3\n",
    "!!! = -5\n",
    "A list of lists containing 2 #s, a O, and a !!! would equal (0 + 5 + 5 + 3 - 5) 8.\n",
    "If the final score is negative, return 0 (e.g. 3 #s, 3 !!s, 2 !!!s and a X would be\n",
    "(0 + 5 + 5 + 5 - 3 - 3 - 3 - 5 - 5 + 1) -3, so return 0.\n",
    "Examples\n",
    "check_score([\n",
    "[&quot;#&quot;, &quot;!&quot;],\n",
    "[&quot;!!&quot;, &quot;X&quot;]\n",
    "]) ➞ 2\n",
    "check_score([\n",
    "[&quot;!!!&quot;, &quot;O&quot;, &quot;!&quot;],\n",
    "[&quot;X&quot;, &quot;#&quot;, &quot;!!!&quot;],\n",
    "[&quot;!!&quot;, &quot;X&quot;, &quot;O&quot;]\n",
    "]) ➞ 0"
   ]
  },
  {
   "cell_type": "code",
   "execution_count": 1,
   "id": "f92b003c",
   "metadata": {},
   "outputs": [
    {
     "name": "stdout",
     "output_type": "stream",
     "text": [
      "Enter the no. of queries you want to check score for: 2\n",
      "Enter the no. of lists: 2\n",
      "Enter multiple lists: # !\n",
      "Enter multiple lists: !! X\n",
      "Final Score for given 2 lists is: 2\n",
      "Enter the no. of lists: 3\n",
      "Enter multiple lists: !!! O !\n",
      "Enter multiple lists: X # !!!\n",
      "Enter multiple lists: !! X O\n",
      "Final Score for given 3 lists is: 0\n"
     ]
    }
   ],
   "source": [
    "d = {'#': 5, 'O': 3, 'X':1, '!': -1, '!!' : -3, '!!!' : -5}\n",
    "#Function definition \n",
    "def check_score(b,y):\n",
    "    count = 0\n",
    "    main = []\n",
    "    for i in sup:\n",
    "        for j in i:\n",
    "            count = count + d[j]\n",
    "            main.append(count)\n",
    "        y = (main[-1])\n",
    "\n",
    "    if y > 0:\n",
    "        return y\n",
    "    else:\n",
    "        return 0\n",
    "\n",
    "#Function call\n",
    "que = int(input(\"Enter the no. of queries you want to check score for: \"))\n",
    "for q in range(que):\n",
    "    sup = []\n",
    "    a = int(input(\"Enter the no. of lists: \"))\n",
    "    for _ in range(a):\n",
    "        x = list(map(str, input(\"Enter multiple lists: \").split()))\n",
    "        sup.append(x)\n",
    "    print(\"Final Score for given\", a, \"lists is:\",check_score(b = a,y = x))\n",
    "\n",
    "\n",
    "\n",
    "    \n",
    "    "
   ]
  },
  {
   "cell_type": "markdown",
   "id": "1643862e",
   "metadata": {},
   "source": [
    "2. Create a function that takes a variable number of arguments, each\n",
    "argument representing the number of items in a group, and returns the\n",
    "number of permutations (combinations) of items that you could get by taking\n",
    "one item from each group.\n",
    "\n"
   ]
  },
  {
   "cell_type": "code",
   "execution_count": 37,
   "id": "cebbcb1f",
   "metadata": {},
   "outputs": [
    {
     "name": "stdout",
     "output_type": "stream",
     "text": [
      "Enter n: 5\n",
      "Enter r: 2\n"
     ]
    },
    {
     "data": {
      "text/plain": [
       "10.0"
      ]
     },
     "execution_count": 37,
     "metadata": {},
     "output_type": "execute_result"
    }
   ],
   "source": [
    "class main:\n",
    "    def __init__(self,n,r):\n",
    "        self.n = n\n",
    "        self.r = r\n",
    "        \n",
    "    def factorial(self,x):\n",
    "        fac= 1\n",
    "        l = [i for i in range(1,x+1)][::-1]\n",
    "        for i in l:\n",
    "            fac = fac*i\n",
    "        return fac\n",
    "\n",
    "\n",
    "    def Combination(self):\n",
    "        n_fac = self.factorial(self.n)\n",
    "        r_fac = self.factorial(self.r)\n",
    "        nr_fac = factorial(self.n-self.r)\n",
    "        return n_fac/(r_fac*nr_fac)\n",
    "    \n",
    "\n",
    "n = int(input(\"Enter n: \"))\n",
    "r = int(input(\"Enter r: \"))\n",
    "\n",
    "object = main(n,r)\n",
    "object.Combination()\n",
    "\n",
    "    "
   ]
  },
  {
   "cell_type": "code",
   "execution_count": 52,
   "id": "bcbe1552",
   "metadata": {},
   "outputs": [
    {
     "name": "stdout",
     "output_type": "stream",
     "text": [
      "Enter the no. of queries you want to test this function for: 3\n",
      "Enter the the list: 2 3\n",
      "6\n",
      "Enter the the list: 3 7 4\n",
      "84\n",
      "Enter the the list: 2 3 4 5\n",
      "120\n"
     ]
    }
   ],
   "source": [
    "#NumberofComb()\n",
    "\n",
    "def NumberofComb(z):\n",
    "    comb = 1\n",
    "    for i in z:\n",
    "        comb = i*comb\n",
    "    return comb\n",
    "\n",
    "#l = list(map(int,input(\"Enter the the list: \").split()))\n",
    "que = int(input(\"Enter the no. of queries you want to test this function for: \"))\n",
    "\n",
    "for q in range(que):\n",
    "    l = list(map(int,input(\"Enter the the list: \").split()))\n",
    "    print(NumberofComb(l))\n",
    "\n",
    "    \n"
   ]
  },
  {
   "cell_type": "markdown",
   "id": "493fb8f1",
   "metadata": {},
   "source": [
    "3. Create a function that takes a string as an argument and returns the Morse\n",
    "code equivalent."
   ]
  },
  {
   "cell_type": "code",
   "execution_count": 97,
   "id": "0da561f2",
   "metadata": {},
   "outputs": [
    {
     "name": "stdout",
     "output_type": "stream",
     "text": [
      "Enter string to encode: HELP ME !\n",
      "......-...--. --. -.-.--\n"
     ]
    }
   ],
   "source": [
    "def encode_morse(s):\n",
    "    char_to_dots = { 'A':'.-', 'B':'-...',\n",
    "                'C':'-.-.', 'D':'-..', 'E':'.',\n",
    "                'F':'..-.', 'G':'--.', 'H':'....',\n",
    "                'I':'..', 'J':'.---', 'K':'-.-',\n",
    "                'L':'.-..', 'M':'--', 'N':'-.',\n",
    "                'O':'---', 'P':'.--.', 'Q':'--.-',\n",
    "                'R':'.-.', 'S':'...', 'T':'-',\n",
    "                'U':'..-', 'V':'...-', 'W':'.--',\n",
    "                'X':'-..-', 'Y':'-.--', 'Z':'--..',\n",
    "                '1':'.----', '2':'..---', '3':'...--',\n",
    "                '4':'....-', '5':'.....', '6':'-....',\n",
    "                '7':'--...', '8':'---..', '9':'----.',\n",
    "                '0':'-----', ', ':'--..--', '.':'.-.-.-',\n",
    "                '?':'..--..', '/':'-..-.', '-':'-....-',\n",
    "                '(':'-.--.', ')':'-.--.-', ' ': ' ', '!': '-.-.--'}\n",
    "    c=\"\"\n",
    "    for i in s:\n",
    "        c += char_to_dots[i]\n",
    "    return c\n",
    "\n",
    "s = str(input(\"Enter string to encode: \"))\n",
    "print(encode_morse(s))"
   ]
  },
  {
   "cell_type": "markdown",
   "id": "27e1cca3",
   "metadata": {},
   "source": [
    "4. Write a function that takes a number and returns True if it&#39;s a prime; False\n",
    "otherwise. The number can be 2^64-1 (2 to the power of 63, not XOR). With\n",
    "the standard technique it would be O(2^64-1), which is much too large for the\n",
    "10 second time limit."
   ]
  },
  {
   "cell_type": "code",
   "execution_count": 112,
   "id": "42b5fa1f",
   "metadata": {},
   "outputs": [],
   "source": [
    "\n",
    "def check_prime(n):\n",
    "    flag = 0\n",
    "    if n > 1:\n",
    "        for i in range(2, int(n/2)+1):\n",
    "            if (n % i) == 0:\n",
    "                flag = 1\n",
    "            break\n",
    "        \n",
    "        if (flag == 0):\n",
    "            print(\"True\")\n",
    "        else:\n",
    "            print(\"False\")\n",
    "        \n",
    "    else:\n",
    "        print(\"False\")\n",
    "    "
   ]
  },
  {
   "cell_type": "code",
   "execution_count": 113,
   "id": "6b8ccc6c",
   "metadata": {},
   "outputs": [
    {
     "name": "stdout",
     "output_type": "stream",
     "text": [
      "True\n"
     ]
    }
   ],
   "source": [
    "check_prime(7)"
   ]
  },
  {
   "cell_type": "code",
   "execution_count": 115,
   "id": "c9409f3e",
   "metadata": {},
   "outputs": [
    {
     "name": "stdout",
     "output_type": "stream",
     "text": [
      "True\n"
     ]
    }
   ],
   "source": [
    "check_prime(56963)"
   ]
  },
  {
   "cell_type": "code",
   "execution_count": 116,
   "id": "9927c70d",
   "metadata": {},
   "outputs": [
    {
     "name": "stdout",
     "output_type": "stream",
     "text": [
      "False\n"
     ]
    }
   ],
   "source": [
    "check_prime(5151512515524)"
   ]
  },
  {
   "cell_type": "markdown",
   "id": "69ba3558",
   "metadata": {},
   "source": [
    "5. 5. Create a function that converts a word to a bitstring and then to a boolean\n",
    "list based on the following criteria:\n",
    "1. Locate the position of the letter in the English alphabet (from 1 to 26).\n",
    "2. Odd positions will be represented as 1 and 0 otherwise.\n",
    "3. Convert the represented positions to boolean values, 1 for True and 0\n",
    "for False.\n",
    "4. Store the conversions into an array."
   ]
  },
  {
   "cell_type": "code",
   "execution_count": 117,
   "id": "5bfa1bbe",
   "metadata": {},
   "outputs": [
    {
     "data": {
      "text/plain": [
       "26"
      ]
     },
     "execution_count": 117,
     "metadata": {},
     "output_type": "execute_result"
    }
   ],
   "source": [
    "s = \"ABCDEFGHIJKLMNOPQRSTUVWXYZ\"\n",
    "len(s)"
   ]
  },
  {
   "cell_type": "code",
   "execution_count": 177,
   "id": "ce578254",
   "metadata": {},
   "outputs": [
    {
     "data": {
      "text/plain": [
       "([0, 1, 1, 0], ['False', 'True', 'True', 'False'])"
      ]
     },
     "execution_count": 177,
     "metadata": {},
     "output_type": "execute_result"
    }
   ],
   "source": [
    "def bool_converter(ss,s):\n",
    "    l = []\n",
    "    main = []\n",
    "    boool = []\n",
    "    for i in range(0,len(s)):       \n",
    "        if i > 1:\n",
    "            if i%2 == 0:\n",
    "                l.append(1)\n",
    "            else:\n",
    "                l.append(0)\n",
    "        else:\n",
    "            l.append(0)\n",
    "\n",
    "    for ind,i in enumerate(s):\n",
    "        for j in ss:\n",
    "            if i == j:\n",
    "                main.append(l[ind])\n",
    "\n",
    "    for m in main:\n",
    "        if m == 0:\n",
    "            boool.append(\"False\")\n",
    "        else: \n",
    "            boool.append(\"True\")\n",
    "    return main,boool\n",
    "\n",
    "s = \"ABCDEFGHIJKLMNOPQRSTUVWXYZ\"\n",
    "ss = \"DEEP\"\n",
    "bool_converter(ss,s)"
   ]
  },
  {
   "cell_type": "code",
   "execution_count": null,
   "id": "33e3b51d",
   "metadata": {},
   "outputs": [],
   "source": []
  }
 ],
 "metadata": {
  "kernelspec": {
   "display_name": "Python 3 (ipykernel)",
   "language": "python",
   "name": "python3"
  },
  "language_info": {
   "codemirror_mode": {
    "name": "ipython",
    "version": 3
   },
   "file_extension": ".py",
   "mimetype": "text/x-python",
   "name": "python",
   "nbconvert_exporter": "python",
   "pygments_lexer": "ipython3",
   "version": "3.9.12"
  }
 },
 "nbformat": 4,
 "nbformat_minor": 5
}
