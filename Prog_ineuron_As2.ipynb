{
  "nbformat": 4,
  "nbformat_minor": 0,
  "metadata": {
    "colab": {
      "name": "Prog_ineuron_As2.ipynb",
      "provenance": [],
      "collapsed_sections": [],
      "authorship_tag": "ABX9TyMSPnbqGL/jo/vlqKqRm4KO",
      "include_colab_link": true
    },
    "kernelspec": {
      "name": "python3",
      "display_name": "Python 3"
    },
    "language_info": {
      "name": "python"
    }
  },
  "cells": [
    {
      "cell_type": "markdown",
      "metadata": {
        "id": "view-in-github",
        "colab_type": "text"
      },
      "source": [
        "<a href=\"https://colab.research.google.com/github/tavleenbajwa8/PythonAssignments/blob/main/Prog_ineuron_As2.ipynb\" target=\"_parent\"><img src=\"https://colab.research.google.com/assets/colab-badge.svg\" alt=\"Open In Colab\"/></a>"
      ]
    },
    {
      "cell_type": "code",
      "execution_count": 1,
      "metadata": {
        "id": "d5HJYcpM4-O7"
      },
      "outputs": [],
      "source": [
        "#Write a Python program to convert kilometers to miles?"
      ]
    },
    {
      "cell_type": "code",
      "source": [
        "def len_converter(a):\n",
        "  print(\"The value in kms is : \", a/1.609, \"Kms\")\n",
        "\n",
        "len_converter(int(input(\"Enter the value in Kms to be converted into miles: \")))\n"
      ],
      "metadata": {
        "colab": {
          "base_uri": "https://localhost:8080/"
        },
        "id": "AO7Lzrjd5LpL",
        "outputId": "aeb8d8c3-c991-4eb7-8767-d5efffc78f5d"
      },
      "execution_count": 15,
      "outputs": [
        {
          "output_type": "stream",
          "name": "stdout",
          "text": [
            "Enter the value in Kms to be converted into miles: 3\n",
            "The value in kms is :  1.8645121193287757 Kms\n"
          ]
        }
      ]
    },
    {
      "cell_type": "code",
      "source": [
        "#Write a Python program to convert Celsius to Fahrenheit?"
      ],
      "metadata": {
        "id": "v3_6Cbw_59M-"
      },
      "execution_count": 13,
      "outputs": []
    },
    {
      "cell_type": "code",
      "source": [
        "def temp_converter(a):\n",
        "  print(\"The value in Farenheit is : \", (a*9/5) + 32, \"F\")\n",
        "\n",
        "temp_converter(int(input(\"Enter the value in Celcius to be converted into farenheit: \")))"
      ],
      "metadata": {
        "colab": {
          "base_uri": "https://localhost:8080/"
        },
        "id": "M7Vl6GFP8Y90",
        "outputId": "bad36669-d3cc-47fa-ac77-5e62f698aaec"
      },
      "execution_count": 17,
      "outputs": [
        {
          "output_type": "stream",
          "name": "stdout",
          "text": [
            "Enter the value in Celcius to be converted into farenheit: 3\n",
            "The value in Farenheit is :  37.4 F\n"
          ]
        }
      ]
    },
    {
      "cell_type": "code",
      "source": [
        "#Write a Python program to display calendar?"
      ],
      "metadata": {
        "id": "3h6P3Agj8-hS"
      },
      "execution_count": 18,
      "outputs": []
    },
    {
      "cell_type": "code",
      "source": [
        "import calendar \n",
        "year = int(input(\"Enter the year: \"))\n",
        "month = int(input(\"Enter the month: \"))\n",
        "\n",
        "print(calendar.month(year, month))\n"
      ],
      "metadata": {
        "colab": {
          "base_uri": "https://localhost:8080/"
        },
        "id": "TbZ2W5EE9WZc",
        "outputId": "48da266f-aa07-4db6-f5c0-1aa65b251102"
      },
      "execution_count": 21,
      "outputs": [
        {
          "output_type": "stream",
          "name": "stdout",
          "text": [
            "Enter the year: 1997\n",
            "Enter the month: 6\n",
            "     June 1997\n",
            "Mo Tu We Th Fr Sa Su\n",
            "                   1\n",
            " 2  3  4  5  6  7  8\n",
            " 9 10 11 12 13 14 15\n",
            "16 17 18 19 20 21 22\n",
            "23 24 25 26 27 28 29\n",
            "30\n",
            "\n"
          ]
        }
      ]
    },
    {
      "cell_type": "code",
      "source": [
        "#OR"
      ],
      "metadata": {
        "id": "kgJrW6LC-KOD"
      },
      "execution_count": 22,
      "outputs": []
    },
    {
      "cell_type": "code",
      "source": [
        "import calendar\n",
        "\n",
        "def calen(year, month):\n",
        "  print(calendar.month(year, month))\n",
        "\n",
        "calen(1997, 3)"
      ],
      "metadata": {
        "colab": {
          "base_uri": "https://localhost:8080/"
        },
        "id": "ld5ypQ92-qgr",
        "outputId": "df29cc48-7a60-4f5c-8520-83d828257f7e"
      },
      "execution_count": 24,
      "outputs": [
        {
          "output_type": "stream",
          "name": "stdout",
          "text": [
            "     March 1997\n",
            "Mo Tu We Th Fr Sa Su\n",
            "                1  2\n",
            " 3  4  5  6  7  8  9\n",
            "10 11 12 13 14 15 16\n",
            "17 18 19 20 21 22 23\n",
            "24 25 26 27 28 29 30\n",
            "31\n",
            "\n"
          ]
        }
      ]
    },
    {
      "cell_type": "code",
      "source": [
        "#Write a Python program to solve quadratic equation?"
      ],
      "metadata": {
        "id": "_46f8xB-_K6I"
      },
      "execution_count": 25,
      "outputs": []
    },
    {
      "cell_type": "code",
      "source": [
        "import cmath\n",
        "a = 10\n",
        "b = 20\n",
        "c = 30\n",
        "\n",
        "d = (b**2) - (4*a*c)\n",
        "\n",
        "x1 = -b-cmath.sqrt(d)/(2*a)\n",
        "x2 = -b+cmath.sqrt(d)/(2*a)\n",
        "\n",
        "print(x1, x2)"
      ],
      "metadata": {
        "colab": {
          "base_uri": "https://localhost:8080/"
        },
        "id": "3x-N_7dJBX9J",
        "outputId": "54f93858-1071-4dbc-c810-b4c50a5217b3"
      },
      "execution_count": 27,
      "outputs": [
        {
          "output_type": "stream",
          "name": "stdout",
          "text": [
            "(-20-1.4142135623730951j) (-20+1.4142135623730951j)\n"
          ]
        }
      ]
    },
    {
      "cell_type": "code",
      "source": [
        "#OR"
      ],
      "metadata": {
        "id": "IHjRBqh3C-zi"
      },
      "execution_count": 28,
      "outputs": []
    },
    {
      "cell_type": "code",
      "source": [
        "import cmath\n",
        "\n",
        "def quad(a,b,c,d):\n",
        "  print(-b-cmath.sqrt(d)/(2*a), -b+cmath.sqrt(d)/(2*a))\n",
        "quad(10,20,30,(b**2) - (4*a*c) )\n"
      ],
      "metadata": {
        "colab": {
          "base_uri": "https://localhost:8080/"
        },
        "id": "E5lLnh3uDKoU",
        "outputId": "45b7576b-3243-4c01-f68d-21cc348eb42d"
      },
      "execution_count": 29,
      "outputs": [
        {
          "output_type": "stream",
          "name": "stdout",
          "text": [
            "(-20-1.4142135623730951j) (-20+1.4142135623730951j)\n"
          ]
        }
      ]
    },
    {
      "cell_type": "code",
      "source": [
        "#Write a Python program to swap two variables without temp variable?"
      ],
      "metadata": {
        "id": "VsHwbSLYDwf4"
      },
      "execution_count": 37,
      "outputs": []
    },
    {
      "cell_type": "code",
      "source": [
        "def swapper(x,y):\n",
        "  x = x + y\n",
        "  y = x - y\n",
        "  x = x - y\n",
        "  print(x,y)\n",
        "\n",
        "swapper(10,20)"
      ],
      "metadata": {
        "colab": {
          "base_uri": "https://localhost:8080/"
        },
        "id": "CoIsbjAtFxeN",
        "outputId": "0ec7f602-5e1e-4fdd-9d50-1614b75a3531"
      },
      "execution_count": 35,
      "outputs": [
        {
          "output_type": "stream",
          "name": "stdout",
          "text": [
            "20 10\n"
          ]
        }
      ]
    },
    {
      "cell_type": "code",
      "source": [
        ""
      ],
      "metadata": {
        "id": "7QoibYUrHu87"
      },
      "execution_count": null,
      "outputs": []
    }
  ]
}