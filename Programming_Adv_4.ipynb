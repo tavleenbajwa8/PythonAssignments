{
 "cells": [
  {
   "cell_type": "code",
   "execution_count": null,
   "id": "19e8bb8c",
   "metadata": {},
   "outputs": [],
   "source": [
    "#1 The function fastFib(num) returns the fibonacci number Fn, of the given numas an argument."
   ]
  },
  {
   "cell_type": "code",
   "execution_count": 1,
   "id": "eeb70901",
   "metadata": {},
   "outputs": [],
   "source": [
    "def fib_fast(x):\n",
    "    a = 1\n",
    "    b = 1\n",
    "    l = []\n",
    "    for i in range(x):\n",
    "        l.append(a) \n",
    "        a,b = b,a+b\n",
    "    return l[-1]"
   ]
  },
  {
   "cell_type": "code",
   "execution_count": 2,
   "id": "89a4397e",
   "metadata": {},
   "outputs": [
    {
     "data": {
      "text/plain": [
       "55"
      ]
     },
     "execution_count": 2,
     "metadata": {},
     "output_type": "execute_result"
    }
   ],
   "source": [
    "fib_fast(10)"
   ]
  },
  {
   "cell_type": "code",
   "execution_count": 3,
   "id": "6ae1b549",
   "metadata": {},
   "outputs": [
    {
     "data": {
      "text/plain": [
       "6765"
      ]
     },
     "execution_count": 3,
     "metadata": {},
     "output_type": "execute_result"
    }
   ],
   "source": [
    "fib_fast(20)"
   ]
  },
  {
   "cell_type": "code",
   "execution_count": 4,
   "id": "9fe70302",
   "metadata": {},
   "outputs": [
    {
     "data": {
      "text/plain": [
       "12586269025"
      ]
     },
     "execution_count": 4,
     "metadata": {},
     "output_type": "execute_result"
    }
   ],
   "source": [
    "fib_fast(50)"
   ]
  },
  {
   "cell_type": "code",
   "execution_count": 43,
   "id": "5ffb3454",
   "metadata": {},
   "outputs": [],
   "source": [
    "#2 Create a function that takes a strings characters as ASCII and returns each characters hexadecimal value as a string."
   ]
  },
  {
   "cell_type": "code",
   "execution_count": 28,
   "id": "d2d6569f",
   "metadata": {},
   "outputs": [],
   "source": [
    "def convert_to_hex(s):\n",
    "    hex_ = \"\"\n",
    "    for i in range(len(s)):\n",
    "        pos = s[i]\n",
    "        ascii_val = ord(pos)\n",
    "        hex_val = hex(ascii_val).lstrip(\"0x\")\n",
    "        #hex_val = hex(ascii_val)\n",
    "        hex_ += hex_val\n",
    "    return ' '.join(hex_[i:i+2] for i in range(0, len(hex_), 2))          "
   ]
  },
  {
   "cell_type": "code",
   "execution_count": 29,
   "id": "5e3f0e34",
   "metadata": {},
   "outputs": [
    {
     "data": {
      "text/plain": [
       "'68 65 6c 6c 6f 20 77 6f 72 6c 64'"
      ]
     },
     "execution_count": 29,
     "metadata": {},
     "output_type": "execute_result"
    }
   ],
   "source": [
    "convert_to_hex(\"hello world\")"
   ]
  },
  {
   "cell_type": "code",
   "execution_count": 30,
   "id": "9c28f845",
   "metadata": {},
   "outputs": [
    {
     "data": {
      "text/plain": [
       "'42 69 67 20 42 6f 69'"
      ]
     },
     "execution_count": 30,
     "metadata": {},
     "output_type": "execute_result"
    }
   ],
   "source": [
    "convert_to_hex(\"Big Boi\")"
   ]
  },
  {
   "cell_type": "code",
   "execution_count": 31,
   "id": "d0de4398",
   "metadata": {},
   "outputs": [
    {
     "data": {
      "text/plain": [
       "'4d 61 72 74 79 20 50 6f 70 70 69 6e 73 6f 6e'"
      ]
     },
     "execution_count": 31,
     "metadata": {},
     "output_type": "execute_result"
    }
   ],
   "source": [
    "convert_to_hex(\"Marty Poppinson\")"
   ]
  },
  {
   "cell_type": "code",
   "execution_count": 32,
   "id": "6b984b08",
   "metadata": {},
   "outputs": [],
   "source": [
    "#3 Someone has attempted to censor my strings by replacing every vowelwith a *, l*k* th*s. Luckily, I&#39;ve been able to find the vowels that wereremoved.Given a censored string and a string of the censored vowels, return theoriginal uncensored string."
   ]
  },
  {
   "cell_type": "code",
   "execution_count": 107,
   "id": "933979d0",
   "metadata": {},
   "outputs": [],
   "source": [
    "def uncensor(s,ss):\n",
    "    x1 = [j for j in s]\n",
    "    x2 = [k for k in ss]\n",
    "    count = 0\n",
    "    for i in range(len(x1)):\n",
    "        if x1[i] == \"*\":\n",
    "            x1[i] = x2[count]\n",
    "            count += 1\n",
    "    result = \"\"\n",
    "    for x in x1:\n",
    "        result += x\n",
    "    return result"
   ]
  },
  {
   "cell_type": "code",
   "execution_count": 108,
   "id": "c4b73d0b",
   "metadata": {},
   "outputs": [
    {
     "data": {
      "text/plain": [
       "'Where did my vowels go?'"
      ]
     },
     "execution_count": 108,
     "metadata": {},
     "output_type": "execute_result"
    }
   ],
   "source": [
    "uncensor(\"Wh*r* d*d my v*w*ls g*?\",\"eeioeo\" )"
   ]
  },
  {
   "cell_type": "code",
   "execution_count": 109,
   "id": "bf3e3a03",
   "metadata": {},
   "outputs": [
    {
     "data": {
      "text/plain": [
       "'abcd'"
      ]
     },
     "execution_count": 109,
     "metadata": {},
     "output_type": "execute_result"
    }
   ],
   "source": [
    "uncensor(\"abcd\", \"\")"
   ]
  },
  {
   "cell_type": "code",
   "execution_count": 110,
   "id": "19f19aea",
   "metadata": {},
   "outputs": [
    {
     "data": {
      "text/plain": [
       "'UPPERCASE'"
      ]
     },
     "execution_count": 110,
     "metadata": {},
     "output_type": "execute_result"
    }
   ],
   "source": [
    "uncensor(\"*PP*RC*S*\", \"UEAE\")"
   ]
  },
  {
   "cell_type": "code",
   "execution_count": 111,
   "id": "258a42af",
   "metadata": {},
   "outputs": [],
   "source": [
    "#4 Write a function that takes an IP address and returns the domain name using PTR DNS records."
   ]
  },
  {
   "cell_type": "code",
   "execution_count": 112,
   "id": "84f9e618",
   "metadata": {},
   "outputs": [],
   "source": [
    "def get_domain(ip):\n",
    "    import socket\n",
    "    result = socket.gethostbyaddr(ip)\n",
    "    return list(result)[0]"
   ]
  },
  {
   "cell_type": "code",
   "execution_count": 113,
   "id": "21634309",
   "metadata": {},
   "outputs": [
    {
     "data": {
      "text/plain": [
       "'dns.google'"
      ]
     },
     "execution_count": 113,
     "metadata": {},
     "output_type": "execute_result"
    }
   ],
   "source": [
    "get_domain(\"8.8.8.8\")"
   ]
  },
  {
   "cell_type": "code",
   "execution_count": 114,
   "id": "4a0542a5",
   "metadata": {},
   "outputs": [
    {
     "data": {
      "text/plain": [
       "'dns.google'"
      ]
     },
     "execution_count": 114,
     "metadata": {},
     "output_type": "execute_result"
    }
   ],
   "source": [
    "get_domain(\"8.8.4.4\")"
   ]
  },
  {
   "cell_type": "code",
   "execution_count": 115,
   "id": "11d9f6b0",
   "metadata": {},
   "outputs": [],
   "source": [
    "#5 Create a function that takes an integer n and returns the factorial of factorials. See below examples for a better understanding:"
   ]
  },
  {
   "cell_type": "code",
   "execution_count": 139,
   "id": "3f8ec42a",
   "metadata": {},
   "outputs": [],
   "source": [
    "def fact_of_fact(x):\n",
    "    res = 1\n",
    "    l= []\n",
    "    for i in range(1,x+1):\n",
    "        for j in range(1,i+1):\n",
    "            l.append(j)\n",
    "    for i in l:\n",
    "        res = i*res\n",
    "    return res"
   ]
  },
  {
   "cell_type": "code",
   "execution_count": 140,
   "id": "76dcce3c",
   "metadata": {},
   "outputs": [
    {
     "data": {
      "text/plain": [
       "288"
      ]
     },
     "execution_count": 140,
     "metadata": {},
     "output_type": "execute_result"
    }
   ],
   "source": [
    "fact_of_fact(4)"
   ]
  },
  {
   "cell_type": "code",
   "execution_count": 141,
   "id": "ec82e8f2",
   "metadata": {},
   "outputs": [
    {
     "data": {
      "text/plain": [
       "34560"
      ]
     },
     "execution_count": 141,
     "metadata": {},
     "output_type": "execute_result"
    }
   ],
   "source": [
    "fact_of_fact(5)"
   ]
  },
  {
   "cell_type": "code",
   "execution_count": 142,
   "id": "1aa7e6dd",
   "metadata": {},
   "outputs": [
    {
     "data": {
      "text/plain": [
       "24883200"
      ]
     },
     "execution_count": 142,
     "metadata": {},
     "output_type": "execute_result"
    }
   ],
   "source": [
    "fact_of_fact(6)"
   ]
  },
  {
   "cell_type": "code",
   "execution_count": null,
   "id": "822b57d8",
   "metadata": {},
   "outputs": [],
   "source": []
  }
 ],
 "metadata": {
  "kernelspec": {
   "display_name": "Python 3 (ipykernel)",
   "language": "python",
   "name": "python3"
  },
  "language_info": {
   "codemirror_mode": {
    "name": "ipython",
    "version": 3
   },
   "file_extension": ".py",
   "mimetype": "text/x-python",
   "name": "python",
   "nbconvert_exporter": "python",
   "pygments_lexer": "ipython3",
   "version": "3.9.12"
  }
 },
 "nbformat": 4,
 "nbformat_minor": 5
}
