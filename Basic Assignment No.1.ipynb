{
 "cells": [
  {
   "cell_type": "raw",
   "id": "cd924c1c",
   "metadata": {},
   "source": [
    "1. In the below elements which of them are values or an expression? eg:- values can be\n",
    "integer or string and expressions will be mathematical operators.\n",
    "*\n",
    "'hello'\n",
    "-87.8\n",
    "-\n",
    "/\n",
    "+\n",
    "6\n",
    "\n",
    "Answer: \n",
    "Values- 1. String: 'hello', 2.Integer: -87.8, 6\n",
    "Expressions- Mathematical operators- *,-,/,+  [ *: (Multiplication), - : (Substraction),  /: (Division), +: (Addition)]  \n"
   ]
  },
  {
   "cell_type": "raw",
   "id": "eec068a9",
   "metadata": {},
   "source": [
    "2. What is the difference between string and variable?\n",
    "\n",
    "#Variable is a location in the primary memory RAM (Random Access Memory) where we store any information in a program varying from strings, integers, complex numbers, float point numbers, boolean values etc . \n",
    "\n",
    "#String is a type of data/value consisting of a sequence of characters inside single, double and triple quotes that can be stored inside a variable.  "
   ]
  },
  {
   "cell_type": "raw",
   "id": "7d8a0777",
   "metadata": {},
   "source": [
    "3. Describe three different types of Data types?\n",
    "\n",
    "a) Numeric datatypes: Incudes Integers(Eg:23,4,5), Float point numbers (Eg:3.4,5.8), Complex numbers (Eg: 4+8j)\n",
    "b) Sequence Type datatypes: Strings (Eg: \"Penny\"), List (Eg:['Penn', 234, True]), Tuples Eg: ('Penn', 234, True)\n",
    "c) Boolean datatypes: Eg: True and False\n",
    "        \n",
    "Others can be Dictionaries, Sets and Nonetype"
   ]
  },
  {
   "cell_type": "raw",
   "id": "77b64774",
   "metadata": {},
   "source": [
    "4. What is an expression made up of? What do all expressions do? \n",
    "\n",
    "Expressions is a combination of operators and operands which undergo interpretation to produce some value. Eg: 4+5, 4/5, 4*5 are the expressions wherein the operators are functionality, represented by symbols like +,/,* and these functionalities require some data to operate on called as operands like 4,5 in this example.  \n"
   ]
  },
  {
   "cell_type": "raw",
   "id": "cd5298ee",
   "metadata": {},
   "source": [
    "5. This assignment statements, like spam = 10. What is the difference between an expression and a statement?\n",
    "\n",
    "Statements represent an action or command that executes something e.g print statements, assignment statements.\n",
    "Expression is a combination of variables, operations and values that yields a result value.\n"
   ]
  },
  {
   "cell_type": "raw",
   "id": "b351414f",
   "metadata": {},
   "source": [
    "6. After running the following code, what does the variable bacon contain?\n",
    "bacon = 22\n",
    "bacon + 1"
   ]
  },
  {
   "cell_type": "code",
   "execution_count": 4,
   "id": "b19199e2",
   "metadata": {},
   "outputs": [
    {
     "data": {
      "text/plain": [
       "23"
      ]
     },
     "execution_count": 4,
     "metadata": {},
     "output_type": "execute_result"
    }
   ],
   "source": [
    "bacon = 22\n",
    "bacon + 1"
   ]
  },
  {
   "cell_type": "raw",
   "id": "d6cef4dd",
   "metadata": {},
   "source": [
    "7. What should the values of the following two terms be?"
   ]
  },
  {
   "cell_type": "code",
   "execution_count": 5,
   "id": "ad432f46",
   "metadata": {},
   "outputs": [
    {
     "data": {
      "text/plain": [
       "'spamspamspam'"
      ]
     },
     "execution_count": 5,
     "metadata": {},
     "output_type": "execute_result"
    }
   ],
   "source": [
    "'spam' + 'spamspam'"
   ]
  },
  {
   "cell_type": "code",
   "execution_count": 6,
   "id": "ef8e1351",
   "metadata": {},
   "outputs": [
    {
     "data": {
      "text/plain": [
       "'spamspamspam'"
      ]
     },
     "execution_count": 6,
     "metadata": {},
     "output_type": "execute_result"
    }
   ],
   "source": [
    "'spam'* 3"
   ]
  },
  {
   "cell_type": "raw",
   "id": "679b5444",
   "metadata": {},
   "source": [
    "8. Why is eggs a valid variable name while 100 is invalid?\n",
    "\n",
    "A variable name must start with a letter or the underscore character. It cannot start with a number because the parser can not tokenize integers as a variable . \n",
    "A variable name can only contain alpha-numeric characters and underscores (A-z, 0-9, and _ ) in which first letter always starts with an integers "
   ]
  },
  {
   "cell_type": "raw",
   "id": "4a9ab68c",
   "metadata": {},
   "source": [
    "9. What three functions can be used to get the integer, floating-point number, or string\n",
    "version of a value?\n",
    "\n",
    "int(): Convert a number or string to an integer, or return 0 if no arguments are given.\n",
    "float() : Convert a string or number to a floating point number, if possible or return 0.0 if no arguments are given. \n",
    "str(): Convert a string or number to an integer, or return '' if no arguments are given."
   ]
  },
  {
   "cell_type": "code",
   "execution_count": 19,
   "id": "aa91b328",
   "metadata": {},
   "outputs": [
    {
     "data": {
      "text/plain": [
       "0"
      ]
     },
     "execution_count": 19,
     "metadata": {},
     "output_type": "execute_result"
    }
   ],
   "source": [
    "int()"
   ]
  },
  {
   "cell_type": "code",
   "execution_count": 20,
   "id": "582530b9",
   "metadata": {},
   "outputs": [
    {
     "data": {
      "text/plain": [
       "0.0"
      ]
     },
     "execution_count": 20,
     "metadata": {},
     "output_type": "execute_result"
    }
   ],
   "source": [
    "float()"
   ]
  },
  {
   "cell_type": "code",
   "execution_count": 21,
   "id": "4f8d2830",
   "metadata": {},
   "outputs": [
    {
     "data": {
      "text/plain": [
       "''"
      ]
     },
     "execution_count": 21,
     "metadata": {},
     "output_type": "execute_result"
    }
   ],
   "source": [
    "str()"
   ]
  },
  {
   "cell_type": "raw",
   "id": "844cbb8b",
   "metadata": {},
   "source": [
    "10. Why does this expression cause an error? How can you fix it?\n",
    "'I have eaten' + 99 + 'burritos.'"
   ]
  },
  {
   "cell_type": "code",
   "execution_count": 13,
   "id": "c903e810",
   "metadata": {},
   "outputs": [
    {
     "ename": "TypeError",
     "evalue": "can only concatenate str (not \"int\") to str",
     "output_type": "error",
     "traceback": [
      "\u001b[1;31m---------------------------------------------------------------------------\u001b[0m",
      "\u001b[1;31mTypeError\u001b[0m                                 Traceback (most recent call last)",
      "\u001b[1;32m<ipython-input-13-d24137131a5c>\u001b[0m in \u001b[0;36m<module>\u001b[1;34m\u001b[0m\n\u001b[1;32m----> 1\u001b[1;33m \u001b[1;34m'I have eaten '\u001b[0m \u001b[1;33m+\u001b[0m \u001b[1;36m99\u001b[0m \u001b[1;33m+\u001b[0m \u001b[1;34m' burritos.'\u001b[0m\u001b[1;33m\u001b[0m\u001b[1;33m\u001b[0m\u001b[0m\n\u001b[0m",
      "\u001b[1;31mTypeError\u001b[0m: can only concatenate str (not \"int\") to str"
     ]
    }
   ],
   "source": [
    "'I have eaten ' + 99 + ' burritos.'"
   ]
  },
  {
   "cell_type": "raw",
   "id": "f9a78ff7",
   "metadata": {},
   "source": [
    "The error here is a type error which can be resolved using Typecasting "
   ]
  },
  {
   "cell_type": "code",
   "execution_count": 14,
   "id": "97735d57",
   "metadata": {},
   "outputs": [
    {
     "data": {
      "text/plain": [
       "'I have eaten 99 burritos.'"
      ]
     },
     "execution_count": 14,
     "metadata": {},
     "output_type": "execute_result"
    }
   ],
   "source": [
    "'I have eaten ' + str(99) + ' burritos.'"
   ]
  },
  {
   "cell_type": "code",
   "execution_count": null,
   "id": "57e26063",
   "metadata": {},
   "outputs": [],
   "source": []
  }
 ],
 "metadata": {
  "kernelspec": {
   "display_name": "Python 3",
   "language": "python",
   "name": "python3"
  },
  "language_info": {
   "codemirror_mode": {
    "name": "ipython",
    "version": 3
   },
   "file_extension": ".py",
   "mimetype": "text/x-python",
   "name": "python",
   "nbconvert_exporter": "python",
   "pygments_lexer": "ipython3",
   "version": "3.8.8"
  }
 },
 "nbformat": 4,
 "nbformat_minor": 5
}
